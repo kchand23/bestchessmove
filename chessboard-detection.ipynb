{
 "cells": [
  {
   "cell_type": "markdown",
   "metadata": {},
   "source": [
    "# Loading Image\n",
    "\n",
    "We use this section to load an image and preprocess it. "
   ]
  },
  {
   "cell_type": "code",
   "execution_count": 1,
   "metadata": {},
   "outputs": [],
   "source": [
    "# Imports for visualization\n",
    "import cv2\n",
    "import numpy as np\n",
    "from matplotlib import pyplot as plt\n",
    "from scipy import stats\n",
    "import pyautogui"
   ]
  },
  {
   "cell_type": "code",
   "execution_count": 2,
   "metadata": {},
   "outputs": [],
   "source": [
    "def display_image(img):\n",
    "    #imS = cv2.resize(img, (1000, 700))  # Resize image\n",
    "    imS = cv2.resize(img, (800, 800))\n",
    "    cv2.imshow(\"image\", imS)\n",
    "    cv2.waitKey(0)\n",
    "\n",
    "    cv2.waitKey(0)\n",
    "    cv2.destroyAllWindows()\n",
    "    \n",
    "\n",
    "def make_kernel(a):\n",
    "  \"\"\"Transform a 2D array into a convolution kernel\"\"\"\n",
    "  a = np.asarray(a)\n",
    "  a = a.reshape(list(a.shape) + [1,1])\n",
    "  return a"
   ]
  },
  {
   "cell_type": "code",
   "execution_count": 3,
   "metadata": {},
   "outputs": [],
   "source": [
    "def take_screenshot():\n",
    "    myScreenshot = pyautogui.screenshot(region=(565,195, 700, 700))\n",
    "    myScreenshot.save(r'screenshot1.png')\n",
    "    return r'screenshot1.png'"
   ]
  },
  {
   "cell_type": "code",
   "execution_count": 4,
   "metadata": {},
   "outputs": [],
   "source": [
    "import tkinter as tk\n",
    "from tkinter import filedialog\n",
    "\n",
    "root= tk.Tk()\n",
    "\n",
    "canvas1 = tk.Canvas(root, width = 300, height = 300)\n",
    "canvas1.pack()\n",
    "\n",
    "def takeScreenshot ():\n",
    "    \n",
    "    myScreenshot = pyautogui.screenshot()\n",
    "    file_path = filedialog.asksaveasfilename(defaultextension='.png')\n",
    "    myScreenshot.save(file_path)\n",
    "\n",
    "myButton = tk.Button(text='Take Screenshot', command=take_screenshot, bg='green',fg='white',font= 10)\n",
    "canvas1.create_window(150, 150, window=myButton)\n",
    "\n",
    "root.mainloop()"
   ]
  },
  {
   "cell_type": "code",
   "execution_count": 209,
   "metadata": {},
   "outputs": [],
   "source": [
    "#Load image and convert to grayscale\n",
    "image_path = 'screenshot1.png'\n",
    "img = cv2.imread(image_path)\n",
    "\n",
    "gray = cv2.cvtColor(img, cv2.COLOR_BGR2GRAY)\n",
    "\n",
    "#Perform Hough transform\n",
    "gray = cv2.cvtColor(img, cv2.COLOR_BGR2GRAY)\n",
    "edges = cv2.Canny(gray,50,150,apertureSize = 3)\n",
    "lines = cv2.HoughLines(edges,1,np.pi/180,200)\n",
    "\n"
   ]
  },
  {
   "cell_type": "code",
   "execution_count": 210,
   "metadata": {},
   "outputs": [],
   "source": [
    "vertical_lines = []\n",
    "horizontal_lines = []\n",
    "#Display all lines\n",
    "for line in lines:\n",
    "    rho = line[0][0]\n",
    "    theta = line[0][1]\n",
    "    if(theta == 0):\n",
    "        vertical_lines.append(line)\n",
    "\n",
    "\n",
    "\n",
    "#Display all lines\n",
    "for line in lines:\n",
    "    rho = line[0][0]\n",
    "    theta = line[0][1]\n",
    "    if theta != 0.0:        \n",
    "        horizontal_lines.append(line)\n",
    "        "
   ]
  },
  {
   "cell_type": "code",
   "execution_count": 211,
   "metadata": {},
   "outputs": [],
   "source": [
    "def checkMatch(lineset):\n",
    "    \"\"\"Checks whether there exists 7 lines of consistent increasing order in set of lines\"\"\"\n",
    "    linediff = np.diff(lineset)\n",
    "    x = 0\n",
    "    cnt = 0\n",
    "    for line in linediff:\n",
    "        # Within 5 px of the other (allowing for minor image errors)\n",
    "        if np.abs(line - x) < 5:\n",
    "            cnt += 1\n",
    "        else:\n",
    "            cnt = 0\n",
    "            x = line\n",
    "    return cnt == 5"
   ]
  },
  {
   "cell_type": "code",
   "execution_count": 212,
   "metadata": {},
   "outputs": [
    {
     "data": {
      "text/plain": [
       "12"
      ]
     },
     "execution_count": 212,
     "metadata": {},
     "output_type": "execute_result"
    }
   ],
   "source": [
    "len(horizontal_lines)"
   ]
  },
  {
   "cell_type": "code",
   "execution_count": 213,
   "metadata": {},
   "outputs": [],
   "source": [
    "img = cv2.imread(image_path)\n",
    "for line in vertical_lines:\n",
    "    rho = line[0][0]\n",
    "    theta = line[0][1]\n",
    "    a = np.cos(theta)\n",
    "    b = np.sin(theta)\n",
    "    x0 = a*rho\n",
    "    y0 = b*rho\n",
    "    x1 = int(x0 + 5000*(-b))\n",
    "    y1 = int(y0 + 5000*(a))\n",
    "    x2 = int(x0 - 5000*(-b))\n",
    "    y2 = int(y0 - 5000*(a))\n",
    "\n",
    "    cv2.line(img,(x1,y1),(x2,y2),(0,0,255),2)\n",
    "\n",
    "display_image(img)"
   ]
  },
  {
   "cell_type": "code",
   "execution_count": 214,
   "metadata": {},
   "outputs": [],
   "source": [
    "img = cv2.imread(image_path)\n",
    "for line in horizontal_lines:\n",
    "    rho = line[0][0]\n",
    "    theta = line[0][1]\n",
    "    a = np.cos(theta)\n",
    "    b = np.sin(theta)\n",
    "    x0 = a*rho\n",
    "    y0 = b*rho\n",
    "    x1 = int(x0 + 5000*(-b))\n",
    "    y1 = int(y0 + 5000*(a))\n",
    "    x2 = int(x0 - 5000*(-b))\n",
    "    y2 = int(y0 - 5000*(a))\n",
    "\n",
    "    cv2.line(img,(x1,y1),(x2,y2),(0,0,255),2)\n",
    "\n",
    "display_image(img)"
   ]
  },
  {
   "cell_type": "code",
   "execution_count": 215,
   "metadata": {},
   "outputs": [
    {
     "data": {
      "text/plain": [
       "array([[  1.       ,   1.5707964],\n",
       "       [ 69.       ,   1.5707964],\n",
       "       [137.       ,   1.5707964],\n",
       "       [198.       ,   1.5707964],\n",
       "       [205.       ,   1.5707964],\n",
       "       [273.       ,   1.5707964],\n",
       "       [341.       ,   1.5707964],\n",
       "       [409.       ,   1.5707964],\n",
       "       [477.       ,   1.5707964],\n",
       "       [536.       ,   1.5707964],\n",
       "       [545.       ,   1.5707964],\n",
       "       [547.       ,   1.5707964]], dtype=float32)"
      ]
     },
     "execution_count": 215,
     "metadata": {},
     "output_type": "execute_result"
    }
   ],
   "source": [
    "\n",
    "#Convert to numpy arrays. \n",
    "horizontal_lines_np = np.concatenate( horizontal_lines, axis=0 )\n",
    "vertical_lines_np = np.concatenate( vertical_lines, axis=0 )\n",
    "horizontal_lines_np = np.sort(horizontal_lines_np, axis = 0)\n",
    "vertical_lines_np = np.sort(vertical_lines_np, axis = 0)\n",
    "\n",
    "horizontal_lines_np"
   ]
  },
  {
   "cell_type": "code",
   "execution_count": 216,
   "metadata": {},
   "outputs": [
    {
     "data": {
      "text/plain": [
       "array([[68.,  0.],\n",
       "       [68.,  0.],\n",
       "       [61.,  0.],\n",
       "       [ 7.,  0.],\n",
       "       [68.,  0.],\n",
       "       [68.,  0.],\n",
       "       [68.,  0.],\n",
       "       [68.,  0.],\n",
       "       [59.,  0.],\n",
       "       [ 9.,  0.],\n",
       "       [ 2.,  0.]], dtype=float32)"
      ]
     },
     "execution_count": 216,
     "metadata": {},
     "output_type": "execute_result"
    }
   ],
   "source": [
    "linediff_hor = np.diff(horizontal_lines_np, axis = 0)\n",
    "linediff_ver = np.diff(vertical_lines_np, axis = 0)\n",
    "\n",
    "linediff_hor"
   ]
  },
  {
   "cell_type": "code",
   "execution_count": 217,
   "metadata": {},
   "outputs": [],
   "source": [
    "#Remove lines which are very close to each other so that the board detection will be easier. \n",
    "def filter_lines(lines, linediff):\n",
    "    indices_to_delete = []\n",
    "    for index, diff in enumerate(linediff): \n",
    "        if(diff[0] <= 10):\n",
    "            indices_to_delete.append(index)\n",
    "    return np.delete(lines, indices_to_delete,0)\n"
   ]
  },
  {
   "cell_type": "code",
   "execution_count": 218,
   "metadata": {},
   "outputs": [],
   "source": [
    "filtered_horizontal_lines = filter_lines(horizontal_lines_np, linediff_hor)\n",
    "filtered_vertical_lines = filter_lines(vertical_lines_np, linediff_ver)"
   ]
  },
  {
   "cell_type": "code",
   "execution_count": 219,
   "metadata": {},
   "outputs": [],
   "source": [
    "img = cv2.imread(image_path)\n",
    "for line in filtered_horizontal_lines:\n",
    "    rho = line[0]\n",
    "    theta = line[1]\n",
    "    a = np.cos(theta)\n",
    "    b = np.sin(theta)\n",
    "    x0 = a*rho\n",
    "    y0 = b*rho\n",
    "    x1 = int(x0 + 5000*(-b))\n",
    "    y1 = int(y0 + 5000*(a))\n",
    "    x2 = int(x0 - 5000*(-b))\n",
    "    y2 = int(y0 - 5000*(a))\n",
    "\n",
    "    cv2.line(img,(x1,y1),(x2,y2),(0,0,255),2)\n",
    "\n",
    "display_image(img)"
   ]
  },
  {
   "cell_type": "code",
   "execution_count": 220,
   "metadata": {},
   "outputs": [],
   "source": [
    "#update line differences. \n",
    "\n",
    "linediff_hor = np.diff(filtered_horizontal_lines, axis = 0)\n",
    "linediff_ver = np.diff(filtered_vertical_lines, axis = 0)"
   ]
  },
  {
   "cell_type": "code",
   "execution_count": 221,
   "metadata": {},
   "outputs": [
    {
     "data": {
      "text/plain": [
       "array([[68.,  0.],\n",
       "       [68.,  0.],\n",
       "       [68.,  0.],\n",
       "       [68.,  0.],\n",
       "       [68.,  0.],\n",
       "       [68.,  0.],\n",
       "       [68.,  0.],\n",
       "       [70.,  0.]], dtype=float32)"
      ]
     },
     "execution_count": 221,
     "metadata": {},
     "output_type": "execute_result"
    }
   ],
   "source": [
    "linediff_hor"
   ]
  },
  {
   "cell_type": "code",
   "execution_count": 222,
   "metadata": {},
   "outputs": [],
   "source": [
    "def get_chess_lines(lines, linediff):\n",
    "    indices_to_delete = []\n",
    "    #find most occuring difference which is probably the width of the chess square. \n",
    "    m = stats.mode(linediff)\n",
    "    mode = m[0][0][0]\n",
    "    for index, diff in enumerate(linediff): \n",
    "        if(abs(diff[0] - mode) >5):\n",
    "            print(diff[0])\n",
    "            indices_to_delete.append(index+1)\n",
    "    return np.delete(lines, indices_to_delete,0)"
   ]
  },
  {
   "cell_type": "code",
   "execution_count": 223,
   "metadata": {},
   "outputs": [],
   "source": [
    "chess_lines_hor = get_chess_lines(filtered_horizontal_lines, linediff_hor)\n",
    "chess_lines_ver = get_chess_lines(filtered_vertical_lines, linediff_ver)"
   ]
  },
  {
   "cell_type": "code",
   "execution_count": 224,
   "metadata": {},
   "outputs": [
    {
     "name": "stdout",
     "output_type": "stream",
     "text": [
      "[[  1.          1.5707964]\n",
      " [ 69.          1.5707964]\n",
      " [137.          1.5707964]\n",
      " [205.          1.5707964]\n",
      " [273.          1.5707964]\n",
      " [341.          1.5707964]\n",
      " [409.          1.5707964]\n",
      " [477.          1.5707964]\n",
      " [547.          1.5707964]]\n"
     ]
    }
   ],
   "source": [
    "img = cv2.imread(image_path)\n",
    "for line in chess_lines_hor:\n",
    "    rho = line[0]\n",
    "    theta = line[1]\n",
    "    a = np.cos(theta)\n",
    "    b = np.sin(theta)\n",
    "    x0 = a*rho\n",
    "    y0 = b*rho\n",
    "    x1 = int(x0 + 5000*(-b))\n",
    "    y1 = int(y0 + 5000*(a))\n",
    "    x2 = int(x0 - 5000*(-b))\n",
    "    y2 = int(y0 - 5000*(a))\n",
    "\n",
    "    cv2.line(img,(x1,y1),(x2,y2),(0,0,255),2)\n",
    "    \n",
    "for line in chess_lines_ver:\n",
    "    rho = line[0]\n",
    "    theta = line[1]\n",
    "    a = np.cos(theta)\n",
    "    b = np.sin(theta)\n",
    "    x0 = a*rho\n",
    "    y0 = b*rho\n",
    "    x1 = int(x0 + 5000*(-b))\n",
    "    y1 = int(y0 + 5000*(a))\n",
    "    x2 = int(x0 - 5000*(-b))\n",
    "    y2 = int(y0 - 5000*(a))\n",
    "\n",
    "    cv2.line(img,(x1,y1),(x2,y2),(0,0,255),2)\n",
    "\n",
    "print(chess_lines_hor)\n",
    "    \n",
    "display_image(img)"
   ]
  },
  {
   "cell_type": "code",
   "execution_count": 225,
   "metadata": {},
   "outputs": [],
   "source": [
    "#Get equations of lines:\n",
    "def getIntersection(rho1,theta1,rho2, theta2):\n",
    "    A = np.array([\n",
    "        [np.cos(theta1), np.sin(theta1)],\n",
    "        [np.cos(theta2), np.sin(theta2)]\n",
    "    ])\n",
    "    b = np.array([[rho1], [rho2]])\n",
    "    x0, y0 = np.linalg.solve(A, b)\n",
    "    x0, y0 = int(np.round(x0)), int(np.round(y0))\n",
    "    return [[x0, y0]]\n",
    "    "
   ]
  },
  {
   "cell_type": "code",
   "execution_count": 226,
   "metadata": {},
   "outputs": [],
   "source": [
    "#Get all intersection points of horizontal and vertical lines to get the corners of the chess squares to extract patches. \n",
    "\n",
    "points = []\n",
    "for i in chess_lines_hor:\n",
    "    for j in chess_lines_ver:\n",
    "        rho_hor = i[0]\n",
    "        theta_hor = i[1]\n",
    "        rho_ver = j[0]\n",
    "        theta_ver = j[1]\n",
    "        points.append(getIntersection(rho_hor, theta_hor, rho_ver, theta_ver)[0])"
   ]
  },
  {
   "cell_type": "code",
   "execution_count": 227,
   "metadata": {},
   "outputs": [
    {
     "name": "stdout",
     "output_type": "stream",
     "text": [
      "[4, 1]\n",
      "[72, 1]\n",
      "[140, 1]\n",
      "[208, 1]\n",
      "[276, 1]\n",
      "[344, 1]\n",
      "[412, 1]\n",
      "[480, 1]\n",
      "[548, 1]\n",
      "[4, 69]\n",
      "[72, 69]\n",
      "[140, 69]\n",
      "[208, 69]\n",
      "[276, 69]\n",
      "[344, 69]\n",
      "[412, 69]\n",
      "[480, 69]\n",
      "[548, 69]\n",
      "[4, 137]\n",
      "[72, 137]\n",
      "[140, 137]\n",
      "[208, 137]\n",
      "[276, 137]\n",
      "[344, 137]\n",
      "[412, 137]\n",
      "[480, 137]\n",
      "[548, 137]\n",
      "[4, 205]\n",
      "[72, 205]\n",
      "[140, 205]\n",
      "[208, 205]\n",
      "[276, 205]\n",
      "[344, 205]\n",
      "[412, 205]\n",
      "[480, 205]\n",
      "[548, 205]\n",
      "[4, 273]\n",
      "[72, 273]\n",
      "[140, 273]\n",
      "[208, 273]\n",
      "[276, 273]\n",
      "[344, 273]\n",
      "[412, 273]\n",
      "[480, 273]\n",
      "[548, 273]\n",
      "[4, 341]\n",
      "[72, 341]\n",
      "[140, 341]\n",
      "[208, 341]\n",
      "[276, 341]\n",
      "[344, 341]\n",
      "[412, 341]\n",
      "[480, 341]\n",
      "[548, 341]\n",
      "[4, 409]\n",
      "[72, 409]\n",
      "[140, 409]\n",
      "[208, 409]\n",
      "[276, 409]\n",
      "[344, 409]\n",
      "[412, 409]\n",
      "[480, 409]\n",
      "[548, 409]\n",
      "[4, 477]\n",
      "[72, 477]\n",
      "[140, 477]\n",
      "[208, 477]\n",
      "[276, 477]\n",
      "[344, 477]\n",
      "[412, 477]\n",
      "[480, 477]\n",
      "[548, 477]\n",
      "[4, 547]\n",
      "[72, 547]\n",
      "[140, 547]\n",
      "[208, 547]\n",
      "[276, 547]\n",
      "[344, 547]\n",
      "[412, 547]\n",
      "[480, 547]\n",
      "[548, 547]\n"
     ]
    }
   ],
   "source": [
    "# Make empty black image\n",
    "img = cv2.imread(image_path)\n",
    "for point in points:\n",
    "    print(point)\n",
    "    cv2.circle(img, (point[0],point[1]), 5, [0,0,255], thickness=2, lineType=8, shift=0)\n",
    "#image[10,5]=[0,0,255]\n",
    "\n",
    "display_image(img)\n",
    "# # Make one pixel red\n",
    "\n",
    "# # Save\n",
    "# cv2.imwrite(\"result.png\",image)"
   ]
  },
  {
   "cell_type": "code",
   "execution_count": 228,
   "metadata": {},
   "outputs": [
    {
     "name": "stdout",
     "output_type": "stream",
     "text": [
      "81\n"
     ]
    }
   ],
   "source": [
    "# create a 2D list for easier point arrangement\n",
    "new_points = []\n",
    "print(len(points))\n",
    "\n",
    "if(len(points) != 81) :\n",
    "    print(\"Board not detected! Try again!\")\n",
    "else:\n",
    "    for i in range(0,81):\n",
    "        if(i % 9) == 0:\n",
    "            new_points.append([])\n",
    "        new_points[int(i/9)].append(points[i])"
   ]
  },
  {
   "cell_type": "code",
   "execution_count": 229,
   "metadata": {},
   "outputs": [
    {
     "data": {
      "text/plain": [
       "[[[4, 1],\n",
       "  [72, 1],\n",
       "  [140, 1],\n",
       "  [208, 1],\n",
       "  [276, 1],\n",
       "  [344, 1],\n",
       "  [412, 1],\n",
       "  [480, 1],\n",
       "  [548, 1]],\n",
       " [[4, 69],\n",
       "  [72, 69],\n",
       "  [140, 69],\n",
       "  [208, 69],\n",
       "  [276, 69],\n",
       "  [344, 69],\n",
       "  [412, 69],\n",
       "  [480, 69],\n",
       "  [548, 69]],\n",
       " [[4, 137],\n",
       "  [72, 137],\n",
       "  [140, 137],\n",
       "  [208, 137],\n",
       "  [276, 137],\n",
       "  [344, 137],\n",
       "  [412, 137],\n",
       "  [480, 137],\n",
       "  [548, 137]],\n",
       " [[4, 205],\n",
       "  [72, 205],\n",
       "  [140, 205],\n",
       "  [208, 205],\n",
       "  [276, 205],\n",
       "  [344, 205],\n",
       "  [412, 205],\n",
       "  [480, 205],\n",
       "  [548, 205]],\n",
       " [[4, 273],\n",
       "  [72, 273],\n",
       "  [140, 273],\n",
       "  [208, 273],\n",
       "  [276, 273],\n",
       "  [344, 273],\n",
       "  [412, 273],\n",
       "  [480, 273],\n",
       "  [548, 273]],\n",
       " [[4, 341],\n",
       "  [72, 341],\n",
       "  [140, 341],\n",
       "  [208, 341],\n",
       "  [276, 341],\n",
       "  [344, 341],\n",
       "  [412, 341],\n",
       "  [480, 341],\n",
       "  [548, 341]],\n",
       " [[4, 409],\n",
       "  [72, 409],\n",
       "  [140, 409],\n",
       "  [208, 409],\n",
       "  [276, 409],\n",
       "  [344, 409],\n",
       "  [412, 409],\n",
       "  [480, 409],\n",
       "  [548, 409]],\n",
       " [[4, 477],\n",
       "  [72, 477],\n",
       "  [140, 477],\n",
       "  [208, 477],\n",
       "  [276, 477],\n",
       "  [344, 477],\n",
       "  [412, 477],\n",
       "  [480, 477],\n",
       "  [548, 477]],\n",
       " [[4, 547],\n",
       "  [72, 547],\n",
       "  [140, 547],\n",
       "  [208, 547],\n",
       "  [276, 547],\n",
       "  [344, 547],\n",
       "  [412, 547],\n",
       "  [480, 547],\n",
       "  [548, 547]]]"
      ]
     },
     "execution_count": 229,
     "metadata": {},
     "output_type": "execute_result"
    }
   ],
   "source": [
    "new_points"
   ]
  },
  {
   "cell_type": "code",
   "execution_count": 230,
   "metadata": {},
   "outputs": [],
   "source": [
    "def get_square_coordinates(points):\n",
    "    squares = []\n",
    "    for i in range(0, 8):\n",
    "        for j in range(0,8):\n",
    "            squares.append([(i,j), (i, j + 1), (i + 1, j), (i + 1, j + 1)])\n",
    "    return squares\n",
    "\n",
    "def get_ith_square(i, points, squares):\n",
    "    square = squares[i-1]\n",
    "    return [points[square[0][0]][square[0][1]], points[square[1][0]][square[1][1]],\n",
    "            points[square[2][0]][square[2][1]],points[square[3][0]][square[3][1]]]"
   ]
  },
  {
   "cell_type": "code",
   "execution_count": 231,
   "metadata": {},
   "outputs": [],
   "source": [
    "squares = get_square_coordinates(new_points)\n"
   ]
  },
  {
   "cell_type": "code",
   "execution_count": 234,
   "metadata": {},
   "outputs": [],
   "source": [
    "img = cv2.imread(image_path)\n",
    "\n",
    "for i in range(1,65):\n",
    "    corners = get_ith_square(i, new_points, squares)\n",
    "    img_patch = img[corners[0][0] : corners[3][0], corners[0][1] : corners[3][1]]\n",
    "    display_image(cv2.resize(cv2.cvtColor(img_patch, cv2.COLOR_BGR2GRAY),(28,28)))\n"
   ]
  },
  {
   "cell_type": "code",
   "execution_count": null,
   "metadata": {},
   "outputs": [],
   "source": []
  },
  {
   "cell_type": "code",
   "execution_count": null,
   "metadata": {},
   "outputs": [],
   "source": []
  }
 ],
 "metadata": {
  "kernelspec": {
   "display_name": "Python 3",
   "language": "python",
   "name": "python3"
  },
  "language_info": {
   "codemirror_mode": {
    "name": "ipython",
    "version": 3
   },
   "file_extension": ".py",
   "mimetype": "text/x-python",
   "name": "python",
   "nbconvert_exporter": "python",
   "pygments_lexer": "ipython3",
   "version": "3.7.3"
  }
 },
 "nbformat": 4,
 "nbformat_minor": 2
}
